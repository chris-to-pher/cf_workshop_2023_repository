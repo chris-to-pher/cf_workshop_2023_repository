{
 "cells": [
  {
   "cell_type": "markdown",
   "id": "04e41da1",
   "metadata": {},
   "source": [
    "<a id=\"top\"></a>\n",
    "# The NetCDF Climate and Forecast (CF) Metadata Conventions"
   ]
  },
  {
   "cell_type": "markdown",
   "id": "ec13f68a",
   "metadata": {},
   "source": [
    "***"
   ]
  },
  {
   "cell_type": "markdown",
   "id": "8c3ce5d6",
   "metadata": {},
   "source": [
    "# 1. What are the CF conventions?\n",
    "\n",
    "- community standard for describing data in the earth system sciences\n",
    "- general concept Mostly used/intended for netcdf but also possible in other formats like XML \n",
    "- developed at University of Reading"
   ]
  },
  {
   "cell_type": "markdown",
   "id": "ce2dcd39",
   "metadata": {},
   "source": [
    "# 2. Important features\n",
    "\n",
    "## Variable Names\n",
    "- Systematic identification via standard_name attribute \n",
    "- standard_names listed in `standard name table` -> https://cfconventions.org/Data/cf-standard-names/current/build/cf-standard-name-table.html\n",
    "    - specific names for different, e.g. `air_potential_temperature` and `sea_water_potential_temperature`\n",
    "    - new names can be suggested here: https://github.com/cf-convention/discuss\n",
    "    - CF standard name ≠ netCDF variable name\n",
    "    \n",
    "![image](./images/cf_standard_name_table.png)\n",
    "\n",
    "## Units\n",
    "- all Variables must have units (except dimensionless numbers)\n",
    "- Units are strings following the `udunits` standard\n",
    "\n",
    "### Time Coordinate\n",
    "- the time unit must follow the form `\"time_unit since reference_time\"`\n",
    "- example: \n",
    "```yaml\n",
    "         double time(time) ;\n",
    "                time:units = \"hours since 1990-1-1 0:0:0\" ;\n",
    "                time:long_name = \"time\" ;\n",
    "```   \n",
    "\n",
    "## Coordinate Variables\n",
    "### Scalar Coordinates\n",
    "-single-valued coordinates\n",
    "### Auxilliary Coordinates\n",
    "- \"alternative\" sets of coordinates for dimensions\n",
    "- necessary if grid axes are not longitude and latitude, e.g. rotated pole or polar-stereographic grids\n",
    "\n",
    "## Cells and Bounds\n"
   ]
  },
  {
   "cell_type": "markdown",
   "id": "9566d1e1",
   "metadata": {},
   "source": [
    "# 3. Types of measurement (or model) data\n",
    "\n",
    "## Discrete sampling geometries\n",
    "\n",
    "- Characterized by a dimensionality that is lower than that of the space-time region that is sampled\n",
    "- typically “paths” through space-time, e.g. time series or trajectories\n",
    "\n",
    "![image](./images/discrete_sampling_geometries.png)\n",
    "\n",
    "\n",
    "## Point data\n",
    "\n",
    "\n",
    "\n",
    "\n",
    "- time series\n",
    "- profile data\n"
   ]
  },
  {
   "cell_type": "markdown",
   "id": "f4888edc",
   "metadata": {},
   "source": [
    "# Further Reading:\n",
    " \n",
    " - UDUnits\n",
    " - CF- Standard Name Table: https://cfconventions.org/Data/cf-standard-names/current/build/cf-standard-name-table.html\n",
    " - http://cfconventions.org/\n",
    " - https://cfconventions.org/Data/cf-standard-names/current/build/cf-standard-name-table.html\n"
   ]
  }
 ],
 "metadata": {
  "kernelspec": {
   "display_name": "Python 3 (ipykernel)",
   "language": "python",
   "name": "python3"
  },
  "language_info": {
   "codemirror_mode": {
    "name": "ipython",
    "version": 3
   },
   "file_extension": ".py",
   "mimetype": "text/x-python",
   "name": "python",
   "nbconvert_exporter": "python",
   "pygments_lexer": "ipython3",
   "version": "3.9.12"
  }
 },
 "nbformat": 4,
 "nbformat_minor": 5
}
