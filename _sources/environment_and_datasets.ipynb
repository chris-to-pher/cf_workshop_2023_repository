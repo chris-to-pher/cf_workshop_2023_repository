{
 "cells": [
  {
   "cell_type": "markdown",
   "id": "5d0f3ebe",
   "metadata": {},
   "source": [
    "# Environment and Data Sets\n",
    "\n",
    "## Environment\n",
    "For the practical part of our workshop, we would like to introduce you to our environment:\n",
    "- CentOS Linux\n",
    "- module system for using our software:\n",
    "    - **Python 3.8.8** with many geo scientific libraries:\n",
    "        - module load anaconda3\n",
    "        - spyder (IDE)\n",
    "        - jupyter notebook (Jupyter Notebook)\n",
    "        - python (interpreter)\n",
    "    - **R 4.1.1**:\n",
    "        - module load r\n",
    "    - **ncdump** can be used without loading modules \n",
    "    \n",
    "- You have 20GB space in your home directory **/home/zmaw/uXXXXXX/**. This should be enough for the test cases. If you need more, get back to us. \n",
    "\n",
    "   \n"
   ]
  },
  {
   "cell_type": "markdown",
   "id": "84a549ad",
   "metadata": {},
   "source": [
    "## Data Sets\n",
    "You can use the following ASCII or binary data sets to practice the conversion to CF compliant netCDF files:\n",
    "\n",
    "### DWD stations\n",
    "We have atmospheric measurement stations from the German Meteorological Service (DWD) in ASCII:\n",
    "/data/icdc/atmosphere/dwd_stations/DATA/. You can either convert single stations to netCDF, but you can also try to save several stations into one netCDF file!\n",
    "\n",
    "\n",
    "### Radolan\n",
    "You can also convert a binary data sets, the same one you saw in the R part, but now in a higher temporal resolution: \n",
    "https://opendata.dwd.de/climate_environment/CDC/grids_germany/5_minutes/radolan/reproc/2017_002/bin/2023/\n",
    "\n",
    "\n",
    "### Sea ice volume\n",
    "You can find the sea ice volume data here /data/icdc_main/DATA/ice_and_snow/esa_cci_sicci/, the file is called ESA-SICCI2_ICDC__SeaIceVolumeTimeseries__south_all_v2.0_fv0.01.txt\n",
    "\n"
   ]
  }
 ],
 "metadata": {
  "kernelspec": {
   "display_name": "Python 3 (ipykernel)",
   "language": "python",
   "name": "python3"
  },
  "language_info": {
   "codemirror_mode": {
    "name": "ipython",
    "version": 3
   },
   "file_extension": ".py",
   "mimetype": "text/x-python",
   "name": "python",
   "nbconvert_exporter": "python",
   "pygments_lexer": "ipython3",
   "version": "3.9.12"
  }
 },
 "nbformat": 4,
 "nbformat_minor": 5
}
