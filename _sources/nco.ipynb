{
 "cells": [
  {
   "cell_type": "markdown",
   "metadata": {
    "slideshow": {
     "slide_type": "slide"
    }
   },
   "source": [
    "# Manipulating attributes and variable names with NCO\n",
    "Remon Sadikni, remon.sadikni@uni-hamburg.de\n",
    "\n",
    "## Goal\n",
    "If you just need to manipulate attributes of your netCDF file you don't need to process it again. You can use the NCO command line tools, in particular the command ncatted and ncrename to do this job.\n",
    "\n"
   ]
  },
  {
   "cell_type": "markdown",
   "metadata": {
    "slideshow": {
     "slide_type": "slide"
    }
   },
   "source": [
    "# nco\n",
    "- netCDF Operator\n",
    "- netCDF Operators (NCO) consist of command-line programs that take netCDF, HDF, and DAP files as input, calculate a result, and output these results to screen or files in text, binary, or netCDF formats.\n",
    "- documentation: https://nco.sourceforge.net/\n",
    "- here we will only look at the command line tools that manipulate the header of the netCDF file:\n",
    "    - ncatted: edits attributes in a netCDF file\n",
    "    - ncrename: renames variables and dimensions in a netCDF file\n",
    "\n",
    "\n"
   ]
  },
  {
   "cell_type": "markdown",
   "metadata": {
    "slideshow": {
     "slide_type": "slide"
    }
   },
   "source": [
    "# ncatted\n",
    "- netCDF Attribute Editor\n",
    "- ncatted edits attributes in a netCDF file. \n",
    "- ncatted can append, create, delete, modify, and overwrite attributes \n",
    "- man page: https://manpages.org/ncatted\n",
    "\n",
    "- the general usage is the following:\n",
    "```\n",
    "ncatted -O -a attribute,variable,method,datatype,value ncfile\n",
    "```\n",
    "- method: c(reate), a(ppend), o(verwrite), d(elete)\n",
    "- datatype: c(har), f(loat), d(ouble), s(hort), l(ong), b(yte)"
   ]
  },
  {
   "cell_type": "markdown",
   "metadata": {
    "slideshow": {
     "slide_type": "subslide"
    }
   },
   "source": [
    "## example\n",
    "\n",
    "- In this example the unit of lat is not right: \"degrees_nort\"\n",
    "- And the global attribute contact is missing\n",
    "- we will correct this by using ncatted\n",
    "\n",
    "```yaml\n",
    "netcdf air2m.mon.mean {\n",
    "dimensions:\n",
    "        lat = 94 ;\n",
    "        lon = 192 ;\n",
    "        time = UNLIMITED ; // (794 currently)\n",
    "variables:\n",
    "        float lat(lat) ;\n",
    "                lat:units = \"degrees_nort\" ;\n",
    "                lat:actual_range = 88.542f, -88.542f ;\n",
    "                lat:long_name = \"Latitude\" ;\n",
    "                lat:standard_name = \"latitude\" ;\n",
    "                lat:axis = \"Y\" ;\n",
    "...\n",
    "\n",
    "// global attributes:\n",
    "                :Conventions = \"COARDS\" ;\n",
    "                :title = \"mean daily NMC reanalysis (1958)\" ;\n",
    "                :history = \"created 97/10/04 by Hoop (netCDF2.3)\" ;\n",
    "                :description = \"Data is from NMC initialized reanalysis\\n\",\n",
    "                        \"(4x/day).  It consists of T62 variables interpolated to\\n\",\n",
    "                        \"pressure surfaces from model (sigma) surfaces.\" ;\n",
    "                :platform = \"Model\" ;            \n",
    "```              \n",
    "\n"
   ]
  },
  {
   "cell_type": "markdown",
   "metadata": {},
   "source": [
    "### add a global attribute\n",
    "- variable: global\n",
    "- c for create\n",
    "- c for char\n",
    "\n",
    "```\n",
    "ncatted -O -a contact,global,c,c,\"remon.sadikni@uni-hamburg.de\" air2m.mon.mean.nc \n",
    "```"
   ]
  },
  {
   "cell_type": "markdown",
   "metadata": {},
   "source": [
    "### change attribute value\n",
    "- o for overwrite\n",
    "- double quotes are not necessary\n",
    "\n",
    "\n",
    "```\n",
    "ncatted -O -a units,lat,o,c,degrees_north air2m.mon.mean.nc \n",
    "```"
   ]
  },
  {
   "cell_type": "markdown",
   "metadata": {},
   "source": [
    "### result\n",
    "lat:units are right, contact has been added\n",
    "```yaml\n",
    "netcdf air2m.mon.mean {\n",
    "dimensions:\n",
    "        lat = 94 ;\n",
    "        lon = 192 ;\n",
    "        time = UNLIMITED ; // (794 currently)\n",
    "variables:\n",
    "        float lat(lat) ;\n",
    "                lat:units = \"degrees_north\" ;\n",
    "                lat:actual_range = 88.542f, -88.542f ;\n",
    "                lat:long_name = \"Latitude\" ;\n",
    "                lat:standard_name = \"latitude\" ;\n",
    "                lat:axis = \"Y\" ;\n",
    "...\n",
    "\n",
    "// global attributes:\n",
    "                :Conventions = \"COARDS\" ;\n",
    "                :title = \"mean daily NMC reanalysis (1958)\" ;\n",
    "                :history = \"created 97/10/04 by Hoop (netCDF2.3)\" ;\n",
    "                :description = \"Data is from NMC initialized reanalysis\\n\",\n",
    "                        \"(4x/day).  It consists of T62 variables interpolated to\\n\",\n",
    "                        \"pressure surfaces from model (sigma) surfaces.\" ;\n",
    "                :platform = \"Model\" ;    \n",
    "                :contact = \"remon.sadikni@uni-hamburg.de\" ;\n",
    "```    "
   ]
  },
  {
   "cell_type": "markdown",
   "metadata": {},
   "source": [
    "# ncrename\n",
    "- rename variables or dimensions in a netCDF file\n",
    "- documentation: https://nco.sourceforge.net/nco.html#ncrename\n",
    "- examples: https://nco.sourceforge.net/nco.html#xmp_ncrename"
   ]
  },
  {
   "cell_type": "markdown",
   "metadata": {},
   "source": [
    "## example\n",
    "Rename the variable lat to latitude in our example air2m.mon.mean.nc file:\n",
    "```\n",
    "ncrename -v lat,latitude air2m.mon.mean.nc\n",
    "```"
   ]
  },
  {
   "cell_type": "markdown",
   "metadata": {},
   "source": [
    "### result\n",
    "the variable lat has been renamed (not the dimension!)\n",
    "```yaml\n",
    "netcdf air2m.mon.mean {\n",
    "dimensions:\n",
    "        lat = 94 ;\n",
    "        lon = 192 ;\n",
    "        time = UNLIMITED ; // (794 currently)\n",
    "variables:\n",
    "        float latitude(lat) ;\n",
    "                latitude:units = \"degrees_north\" ;\n",
    "                latitude:actual_range = 88.542f, -88.542f ;\n",
    "                latitude:long_name = \"Latitude\" ;\n",
    "                latitude:standard_name = \"latitude\" ;\n",
    "                latitude:axis = \"Y\" ;\n",
    "...\n",
    "\n",
    "\n",
    "```"
   ]
  },
  {
   "cell_type": "markdown",
   "metadata": {},
   "source": [
    "## example\n",
    "Rename the dimension, too!\n",
    "```\n",
    "ncrename -d lat,latitude air2m.mon.mean.nc\n",
    "```"
   ]
  },
  {
   "cell_type": "markdown",
   "metadata": {},
   "source": [
    "### result\n",
    "the variable lat has been renamed (not the dimension!)\n",
    "```yaml\n",
    "netcdf air2m.mon.mean {\n",
    "dimensions:\n",
    "        latitude = 94 ;\n",
    "        lon = 192 ;\n",
    "        time = UNLIMITED ; // (794 currently)\n",
    "variables:\n",
    "        float latitude(latitude) ;\n",
    "                latitude:units = \"degrees_north\" ;\n",
    "                latitude:actual_range = 88.542f, -88.542f ;\n",
    "                latitude:long_name = \"Latitude\" ;\n",
    "                latitude:standard_name = \"latitude\" ;\n",
    "                latitude:axis = \"Y\" ;\n",
    "...\n",
    "\n",
    "```"
   ]
  },
  {
   "cell_type": "markdown",
   "metadata": {},
   "source": [
    "These were only some examples, please look at the nco page for more: https://nco.sourceforge.net/nco.html"
   ]
  }
 ],
 "metadata": {
  "celltoolbar": "Slideshow",
  "kernelspec": {
   "display_name": "Python 3 (ipykernel)",
   "language": "python",
   "name": "python3"
  },
  "language_info": {
   "codemirror_mode": {
    "name": "ipython",
    "version": 3
   },
   "file_extension": ".py",
   "mimetype": "text/x-python",
   "name": "python",
   "nbconvert_exporter": "python",
   "pygments_lexer": "ipython3",
   "version": "3.9.12"
  }
 },
 "nbformat": 4,
 "nbformat_minor": 2
}
