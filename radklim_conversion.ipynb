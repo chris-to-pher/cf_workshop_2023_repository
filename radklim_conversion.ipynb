{
 "cells": [
  {
   "cell_type": "markdown",
   "id": "6ba58971",
   "metadata": {},
   "source": [
    "<a id=\"top\"></a>\n",
    "# Creating cf-compliant netCDF files in R"
   ]
  },
  {
   "cell_type": "markdown",
   "id": "3c4b4bce",
   "metadata": {},
   "source": [
    "***"
   ]
  },
  {
   "cell_type": "markdown",
   "id": "08763b73",
   "metadata": {},
   "source": [
    "## Learning Objectives\n",
    "\n",
    "At the end of this tutorial, learners will be able to:\n",
    "- read binary data in R\n",
    "- explain the netCDF data format and the \"Climate and Forecast (CF)\" meta data standard\n",
    "- write netCDF data in R\n",
    "\n",
    "As an example we will use precipitation data from a gauge-adjusted radardataset of Deutscher Wetterdienst (DWD)."
   ]
  },
  {
   "cell_type": "markdown",
   "id": "dcbb2aae",
   "metadata": {},
   "source": [
    "## Introduction\n",
    "\n",
    "The \"radar climatology\" of Deutscher Wetterdienst (DWD) contains precipitation measurements based on radardata which have been quality-controlled and adjusted. It offers continuous observations of precipitation in space and time with a spatial resolution of 1 km * 1km and a temporal resolution of 1 h (the so-called RW-product) or 5 min (YW-product). The access to the dataset and further information are available here:\n",
    "DOI:_10.5676/DWD/RADKLIM_RW_V2017.002_\n",
    "\n",
    "The data is available in a binary format which will be converted to the netCDF format in this tutorial. \n"
   ]
  },
  {
   "cell_type": "markdown",
   "id": "dde6ee12",
   "metadata": {},
   "source": [
    "## Packages\n",
    "The following r-packages are required:\n",
    "- ncdf4 (handling netcdf data)\n",
    "- chron (handling date and time values)\n",
    "- fields (plotting data)"
   ]
  },
  {
   "cell_type": "code",
   "execution_count": null,
   "id": "3f7843b6",
   "metadata": {},
   "outputs": [],
   "source": [
    "#install.packages(\"ncdf4\")\n",
    "#install.packages(\"chron\")\n",
    "#install.packages(\"fields\")\n",
    "\n",
    "library(ncdf4)\n",
    "library(chron)\n",
    "library(fields)"
   ]
  },
  {
   "cell_type": "markdown",
   "id": "d3aa84a3",
   "metadata": {},
   "source": [
    "## 1. Download the data\n",
    "\n",
    "We start by downloading the data from the opendata-Server of Deutscher Wetterdienst. We arbitrarily choose the data for January 2001 as example data which corresponds to the file `RW2017.002_200101.tar.gz`."
   ]
  },
  {
   "cell_type": "code",
   "execution_count": null,
   "id": "a112f42e",
   "metadata": {},
   "outputs": [],
   "source": [
    "system(\"mkdir ./data\")\n",
    "system(\"wget https://opendata.dwd.de/climate_environment/CDC/grids_germany/hourly/radolan/reproc/2017_002/bin/2001/RW2017.002_200101.tar.gz\", intern=TRUE)"
   ]
  },
  {
   "cell_type": "markdown",
   "id": "9358d749",
   "metadata": {},
   "source": [
    "## 2. Untar the data\n",
    "\n",
    "The data is stored as monthly tar-archives. By untaring the data, files will be created which adhere to the following naming convention:\n",
    "`raa01-rw2017.002_10000-************-dwd---bin`\n",
    "where `*` serves as wildcard to denote the time and date of the data in the format `YYMMDDHHMM`. "
   ]
  },
  {
   "cell_type": "code",
   "execution_count": null,
   "id": "9bc540c2",
   "metadata": {
    "tags": [
     "hide-output"
    ]
   },
   "outputs": [],
   "source": [
    "system(\"tar -xvf RW2017.002_200101.tar.gz -C data\", intern=TRUE)"
   ]
  },
  {
   "cell_type": "markdown",
   "id": "5bf1e256",
   "metadata": {},
   "source": [
    "## 3. Read the data\n",
    "\n",
    "The data are stored in the so-called `RADKLIM-Komposit` format. In this format, every file consists of an ASCII part which contains meta data and a binary part which contains the actual precipitation data. The format is described in detail in the following document: \n",
    "https://www.dwd.de/DE/leistungen/radarklimatologie/radklim_kompositformat_1_0.pdf"
   ]
  },
  {
   "cell_type": "markdown",
   "id": "f2448ece",
   "metadata": {},
   "source": [
    "### 3.1. Metadata\n",
    "\n",
    "We extract the metadata `date` and `time` from the file names all files for January and save it in the `time vector` variable. "
   ]
  },
  {
   "cell_type": "code",
   "execution_count": null,
   "id": "3c2bdfb3",
   "metadata": {},
   "outputs": [],
   "source": [
    "filelist_name_only<-dir(\"./data\",pattern=\"raa01-rw2017\")\n",
    "filelist_full_path<-normalizePath(dir(\"./data\",pattern=\"raa01-rw2017\",full.names = T))\n",
    "nfiles<-length(filelist_name_only)\n",
    "time_vector<-vector(mode=\"double\",length=nfiles)\n",
    "\n",
    "for(i in 1:nfiles){\n",
    "    year<-substr(as.character(filelist_name_only[i]),24,25)\n",
    "    month<-substr(as.character(filelist_name_only[i]),26,27)\n",
    "    day<-substr(as.character(filelist_name_only[i]),28,29)\n",
    "    hour<-substr(as.character(filelist_name_only[i]),30,31)\n",
    "    minute<-substr(as.character(filelist_name_only[i]),32,33)\n",
    "    \n",
    "    time_vector[i]=chron(dates(c(paste(month,\"/\",day,\"/20\",year,sep=\"\"))),times=times(c(paste(hour,\":\",minute,\":00\"))),origin=c(01,01,1900))\n",
    "}"
   ]
  },
  {
   "cell_type": "markdown",
   "id": "7fdcf8ec",
   "metadata": {},
   "source": [
    "### 3.2. Binary data"
   ]
  },
  {
   "cell_type": "code",
   "execution_count": null,
   "id": "ca75287a",
   "metadata": {},
   "outputs": [],
   "source": [
    "radarmatrix<-array(data=0,dim=c(1100,900,nfiles))\n",
    "\n",
    "#Loop over 24 files (equal to 1 day)\n",
    "\n",
    "for(i in 1:nfiles){\n",
    "    con=file(filelist_full_path[i],\"rb\")\n",
    "    header1<-readChar(con,92)\n",
    "    length_of_stations_in_header<-as.numeric(readChar(con,2))\n",
    "    stations<-readChar(con,length_of_stations_in_header)\n",
    "    ext<-readChar(con,1)\n",
    "    x<-readBin(con,\"integer\",n=990000,size=2,signed=F,endian=\"little\")\n",
    "    close(con)\n",
    "    temp<-matrix(x,ncol=(900),nrow=1100,byrow=T)\n",
    "    temp[(which(temp==10692))]<-NA\n",
    "    radarmatrix[,,i]<-temp\n",
    "}\n",
    "\n",
    "radarmatrix[which(radarmatrix>1000)]<-NA\n",
    "radarmatrix<-radarmatrix/10;"
   ]
  },
  {
   "cell_type": "markdown",
   "id": "65b30e5a",
   "metadata": {},
   "source": [
    "## 4. Process data\n",
    "\n",
    "In this section, the `radarmatrix` which we just stored will be saved as netCDF file."
   ]
  },
  {
   "cell_type": "markdown",
   "id": "c06c1bd4",
   "metadata": {},
   "source": [
    "### 4.1. Calculate the grid information\n",
    "\n",
    "First of all, we need to calculate the grid information, i.e. the longitude and latitude values for our data. The data is stored in polar stereographic projection."
   ]
  },
  {
   "cell_type": "code",
   "execution_count": null,
   "id": "3bece96e",
   "metadata": {},
   "outputs": [],
   "source": [
    "x.vec <- seq(-442.962,456.038,1)    #length(900)\n",
    "y.vec <- seq(-4758.145,-3659.145,1) #length(1100)\n",
    "nx <- length(x.vec)      #x-direction of whole GER-Radardomain  #old domain: 900 new: 1100\n",
    "ny <- length(y.vec)      #y-direction of whole GER-Radardomain  # old and new: 900\n",
    "\n",
    "lon0=10\n",
    "lat0=60 #Reference Point in Coordinates\n",
    "EARTH_R=6370.04 #EARH RADIUS\n",
    "\n",
    "lat=array(dim=c(nx,ny))\n",
    "lon=array(dim=c(nx,ny))\n",
    "\n",
    "xbounds=array(dim=c(nx,ny,4))\n",
    "ybounds=array(dim=c(nx,ny,4))\n",
    "\n",
    "x.v=c(-0.5,0.5,0.5,-0.5)\n",
    "y.v=c(-0.5,-0.5,0.5,0.5)\n",
    "\n",
    "\n",
    "for (i in 1:nx){\n",
    "        for (j in 1:ny){\n",
    "                lon[i,j]=(180/pi*atan(-(x.vec[i])/(y.vec[j]))+lon0)\n",
    "                lat[i,j]=180/pi*asin((EARTH_R^2*(1+sin(pi/180*lat0))^2-(x.vec[i]^2+y.vec[j]^2))/(EARTH_R^2*(1+sin(pi/180*lat0))^2+(x.vec[i]^2+y.vec[j]^2)))\n",
    "                for (k in 1:4){\n",
    "                    xbounds[i,j,k]=(180/pi*atan(-(x.vec[i]+x.v[k])/(y.vec[j]+y.v[k]))+lon0)\n",
    "                    ybounds[i,j,k]=180/pi*asin((EARTH_R^2*(1+sin(pi/180*lat0))^2-((x.vec[i]+x.v[k])^2+y.vec[j]^2))/(EARTH_R^2*(1+sin(pi/180*lat0))^2+((x.vec[i]+x.v[k])^2+(y.vec[j]+y.v[k])^2)))\n",
    "                }\n",
    "        }\n",
    "}"
   ]
  },
  {
   "cell_type": "markdown",
   "id": "1aecbd74",
   "metadata": {},
   "source": [
    "### 4.2. Writing the netCDF-file\n",
    "\n",
    "Writing the netcdf file consists of the following steps:\n",
    "1. Defining the dimensions of the netcdf-file (function call: ncdim_def)\n",
    "2. Defining the variables, both coordinate and data variables (function call: ncvar_def)\n",
    "3. Creating the netcdf-File (function call: nc_create)\n",
    "4. Inserting the variables into the netCDF-file\n",
    "5. Adding global and variable-specific metadata attributes "
   ]
  },
  {
   "cell_type": "code",
   "execution_count": null,
   "id": "1969d020",
   "metadata": {},
   "outputs": [],
   "source": [
    "# 1. Defining the dimensions \n",
    "x<-ncdim_def(\"x\",create_dimvar=F,\"\",1:900)\n",
    "y<-ncdim_def(\"y\",create_dimvar=F,\"\",1:1100)\n",
    "timedim<-ncdim_def(\"time\",\"days since 1900-01-01 00:00:00.0 -0:00\",time_vector)\n",
    "\n",
    "fillvalue<-1e32\n",
    "dlname <- \"precipitation_amount\"\n",
    "\n",
    "# 2. Defining the variables\n",
    "prec_def <- ncvar_def(\"prec\",\"kg m-2\",list(x,y,timedim),fillvalue,dlname,prec=\"single\")\n",
    "lon_def<-ncvar_def(name=\"longitude\",units=\"degrees_east\",dim=list(x,y))\n",
    "lat_def<-ncvar_def(name=\"latitude\",units=\"degrees_north\",dim=list(x,y))\n",
    "\n",
    "# 3. Creating the netCDF-file\n",
    "ncfname <- paste(\"/data/icdc_main/PROJECTS/nfdi4earth/TA1_3/workshop_netcdf/netcdf-workshop-jupyterbook/prec_rw_\",year,month,\".nc\",sep=\"\")\n",
    "ncout <- nc_create(ncfname,vars=list(prec_def,lon_def,lat_def),force_v4=T)\n",
    "\n",
    "# 4. Inserting the variables\n",
    "ncvar_put(ncout,lon_def,lon)\n",
    "ncvar_put(ncout,lat_def,lat)\n",
    "ncvar_put(ncout,prec_def,aperm(radarmatrix,c(2,1,3)))\n",
    "\n",
    "# 5. Adding attributes\n",
    "#  5.1. Variable attributes\n",
    "ncatt_put(ncout,\"longitude\",\"axis\",\"X\") #,verbose=FALSE) #,definemode=FALSE)\n",
    "ncatt_put(ncout,\"latitude\",\"axis\",\"Y\")\n",
    "ncatt_put(ncout,\"time\",\"axis\",\"T\")\n",
    "ncatt_put(ncout,varid=\"prec\",attname=\"coordinates\",attval=\"longitude latitude\")\n",
    "ncatt_put(ncout,varid=\"longitude\",attname=\"standard_name\",attval=\"longitude\")\n",
    "ncatt_put(ncout,varid=\"latitude\",attname=\"standard_name\",attval=\"latitude\")\n",
    "#  5.2. Global attributes\n",
    "ncatt_put(ncout,0,\"title\",\"Radar-based Precipitation Climatology for Germany\")\n",
    "ncatt_put(ncout,0,\"institution\",\"Deutscher Wetterdienst (DWD)\")\n",
    "ncatt_put(ncout,0,\"source\",\"Radar composit, Gauge-adjusted\")\n",
    "ncatt_put(ncout,0,\"references\",\"http://dx.doi.org/10.5676/DWD/RADKLIM_RW_V2017.002\")\n",
    "ncatt_put(ncout,0,\"history\",\"transformation to netcdf with procedure by Christopher Purr (University of Hamburg) 2023/01/01\")\n",
    "ncatt_put(ncout,0,\"Conventions\",\"CF-1.8\")\n",
    "\n",
    "# Close the file and write data to disk\n",
    "nc_close(ncout)"
   ]
  },
  {
   "cell_type": "code",
   "execution_count": null,
   "id": "d7cf1361",
   "metadata": {},
   "outputs": [],
   "source": [
    "image.plot(seq(1:900),seq(1:1100),t(radarmatrix[,,20]),asp=1)"
   ]
  },
  {
   "cell_type": "markdown",
   "id": "0fea1bcd",
   "metadata": {},
   "source": [
    "## 5. Checking if the netcdf-file conforms to the cf-Standard\n",
    "\n",
    "To check whether the netCDF-file we created conforms to the CF-Standard, you can use the \"CF-Checker\" at \n",
    "https://compliance.ioos.us/index.html\n",
    "\n",
    "Just choose CF-(1.6 to 1.8) and submit the created nc-file."
   ]
  },
  {
   "cell_type": "markdown",
   "id": "de352846",
   "metadata": {},
   "source": [
    "## Further material\n",
    "\n",
    "- https://unidata.github.io/python-training/workshop/CF%20Conventions/netcdf-and-cf-the-basics/\n",
    "- CF-Conventions - Overview: https://cfconventions.org/\n",
    "- CF-Conventions - current version: http://cfconventions.org/cf-conventions/cf-conventions.html"
   ]
  },
  {
   "cell_type": "code",
   "execution_count": null,
   "id": "39191805",
   "metadata": {},
   "outputs": [],
   "source": []
  }
 ],
 "metadata": {
  "celltoolbar": "Tags",
  "kernelspec": {
   "display_name": "Python 3 (ipykernel)",
   "language": "python",
   "name": "python3"
  },
  "language_info": {
   "codemirror_mode": {
    "name": "ipython",
    "version": 3
   },
   "file_extension": ".py",
   "mimetype": "text/x-python",
   "name": "python",
   "nbconvert_exporter": "python",
   "pygments_lexer": "ipython3",
   "version": "3.9.12"
  }
 },
 "nbformat": 4,
 "nbformat_minor": 5
}
